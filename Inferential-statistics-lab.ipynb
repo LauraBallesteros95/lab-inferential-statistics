{
 "cells": [
  {
   "cell_type": "markdown",
   "id": "4f84f26a",
   "metadata": {},
   "source": [
    "## LAB INFERENTIAL STATISTICS "
   ]
  },
  {
   "cell_type": "code",
   "execution_count": 1,
   "id": "bfc1614a",
   "metadata": {},
   "outputs": [],
   "source": [
    "import numpy as np\n",
    "import pandas as pd\n",
    "import math\n",
    "from scipy.stats import norm\n",
    "from scipy.stats import ttest_1samp"
   ]
  },
  {
   "cell_type": "code",
   "execution_count": 2,
   "id": "bec78792",
   "metadata": {},
   "outputs": [
    {
     "data": {
      "text/html": [
       "<div>\n",
       "<style scoped>\n",
       "    .dataframe tbody tr th:only-of-type {\n",
       "        vertical-align: middle;\n",
       "    }\n",
       "\n",
       "    .dataframe tbody tr th {\n",
       "        vertical-align: top;\n",
       "    }\n",
       "\n",
       "    .dataframe thead th {\n",
       "        text-align: right;\n",
       "    }\n",
       "</style>\n",
       "<table border=\"1\" class=\"dataframe\">\n",
       "  <thead>\n",
       "    <tr style=\"text-align: right;\">\n",
       "      <th></th>\n",
       "      <th>119513</th>\n",
       "      <th>N</th>\n",
       "      <th>31</th>\n",
       "      <th>18.02</th>\n",
       "      <th>27.6</th>\n",
       "      <th>117.5</th>\n",
       "      <th>1013</th>\n",
       "      <th>0.09489</th>\n",
       "      <th>0.1036</th>\n",
       "      <th>0.1086</th>\n",
       "      <th>...</th>\n",
       "      <th>139.7</th>\n",
       "      <th>1436</th>\n",
       "      <th>0.1195</th>\n",
       "      <th>0.1926</th>\n",
       "      <th>0.314</th>\n",
       "      <th>0.117</th>\n",
       "      <th>0.2677</th>\n",
       "      <th>0.08113</th>\n",
       "      <th>5</th>\n",
       "      <th>5.1</th>\n",
       "    </tr>\n",
       "  </thead>\n",
       "  <tbody>\n",
       "    <tr>\n",
       "      <th>0</th>\n",
       "      <td>8423</td>\n",
       "      <td>N</td>\n",
       "      <td>61</td>\n",
       "      <td>17.99</td>\n",
       "      <td>10.38</td>\n",
       "      <td>122.80</td>\n",
       "      <td>1001.0</td>\n",
       "      <td>0.11840</td>\n",
       "      <td>0.2776</td>\n",
       "      <td>0.3001</td>\n",
       "      <td>...</td>\n",
       "      <td>184.60</td>\n",
       "      <td>2019.0</td>\n",
       "      <td>0.1622</td>\n",
       "      <td>0.6656</td>\n",
       "      <td>0.7119</td>\n",
       "      <td>0.2654</td>\n",
       "      <td>0.4601</td>\n",
       "      <td>0.11890</td>\n",
       "      <td>3.0</td>\n",
       "      <td>2</td>\n",
       "    </tr>\n",
       "    <tr>\n",
       "      <th>1</th>\n",
       "      <td>842517</td>\n",
       "      <td>N</td>\n",
       "      <td>116</td>\n",
       "      <td>21.37</td>\n",
       "      <td>17.44</td>\n",
       "      <td>137.50</td>\n",
       "      <td>1373.0</td>\n",
       "      <td>0.08836</td>\n",
       "      <td>0.1189</td>\n",
       "      <td>0.1255</td>\n",
       "      <td>...</td>\n",
       "      <td>159.10</td>\n",
       "      <td>1949.0</td>\n",
       "      <td>0.1188</td>\n",
       "      <td>0.3449</td>\n",
       "      <td>0.3414</td>\n",
       "      <td>0.2032</td>\n",
       "      <td>0.4334</td>\n",
       "      <td>0.09067</td>\n",
       "      <td>2.5</td>\n",
       "      <td>0</td>\n",
       "    </tr>\n",
       "    <tr>\n",
       "      <th>2</th>\n",
       "      <td>843483</td>\n",
       "      <td>N</td>\n",
       "      <td>123</td>\n",
       "      <td>11.42</td>\n",
       "      <td>20.38</td>\n",
       "      <td>77.58</td>\n",
       "      <td>386.1</td>\n",
       "      <td>0.14250</td>\n",
       "      <td>0.2839</td>\n",
       "      <td>0.2414</td>\n",
       "      <td>...</td>\n",
       "      <td>98.87</td>\n",
       "      <td>567.7</td>\n",
       "      <td>0.2098</td>\n",
       "      <td>0.8663</td>\n",
       "      <td>0.6869</td>\n",
       "      <td>0.2575</td>\n",
       "      <td>0.6638</td>\n",
       "      <td>0.17300</td>\n",
       "      <td>2.0</td>\n",
       "      <td>0</td>\n",
       "    </tr>\n",
       "    <tr>\n",
       "      <th>3</th>\n",
       "      <td>843584</td>\n",
       "      <td>R</td>\n",
       "      <td>27</td>\n",
       "      <td>20.29</td>\n",
       "      <td>14.34</td>\n",
       "      <td>135.10</td>\n",
       "      <td>1297.0</td>\n",
       "      <td>0.10030</td>\n",
       "      <td>0.1328</td>\n",
       "      <td>0.1980</td>\n",
       "      <td>...</td>\n",
       "      <td>152.20</td>\n",
       "      <td>1575.0</td>\n",
       "      <td>0.1374</td>\n",
       "      <td>0.2050</td>\n",
       "      <td>0.4000</td>\n",
       "      <td>0.1625</td>\n",
       "      <td>0.2364</td>\n",
       "      <td>0.07678</td>\n",
       "      <td>3.5</td>\n",
       "      <td>0</td>\n",
       "    </tr>\n",
       "    <tr>\n",
       "      <th>4</th>\n",
       "      <td>843786</td>\n",
       "      <td>R</td>\n",
       "      <td>77</td>\n",
       "      <td>12.75</td>\n",
       "      <td>15.29</td>\n",
       "      <td>84.60</td>\n",
       "      <td>502.7</td>\n",
       "      <td>0.11890</td>\n",
       "      <td>0.1569</td>\n",
       "      <td>0.1664</td>\n",
       "      <td>...</td>\n",
       "      <td>107.30</td>\n",
       "      <td>733.2</td>\n",
       "      <td>0.1706</td>\n",
       "      <td>0.4196</td>\n",
       "      <td>0.5999</td>\n",
       "      <td>0.1709</td>\n",
       "      <td>0.3485</td>\n",
       "      <td>0.11790</td>\n",
       "      <td>2.5</td>\n",
       "      <td>0</td>\n",
       "    </tr>\n",
       "  </tbody>\n",
       "</table>\n",
       "<p>5 rows × 35 columns</p>\n",
       "</div>"
      ],
      "text/plain": [
       "   119513  N   31  18.02   27.6   117.5    1013  0.09489  0.1036  0.1086  ...  \\\n",
       "0    8423  N   61  17.99  10.38  122.80  1001.0  0.11840  0.2776  0.3001  ...   \n",
       "1  842517  N  116  21.37  17.44  137.50  1373.0  0.08836  0.1189  0.1255  ...   \n",
       "2  843483  N  123  11.42  20.38   77.58   386.1  0.14250  0.2839  0.2414  ...   \n",
       "3  843584  R   27  20.29  14.34  135.10  1297.0  0.10030  0.1328  0.1980  ...   \n",
       "4  843786  R   77  12.75  15.29   84.60   502.7  0.11890  0.1569  0.1664  ...   \n",
       "\n",
       "    139.7    1436  0.1195  0.1926   0.314   0.117  0.2677  0.08113    5  5.1  \n",
       "0  184.60  2019.0  0.1622  0.6656  0.7119  0.2654  0.4601  0.11890  3.0    2  \n",
       "1  159.10  1949.0  0.1188  0.3449  0.3414  0.2032  0.4334  0.09067  2.5    0  \n",
       "2   98.87   567.7  0.2098  0.8663  0.6869  0.2575  0.6638  0.17300  2.0    0  \n",
       "3  152.20  1575.0  0.1374  0.2050  0.4000  0.1625  0.2364  0.07678  3.5    0  \n",
       "4  107.30   733.2  0.1706  0.4196  0.5999  0.1709  0.3485  0.11790  2.5    0  \n",
       "\n",
       "[5 rows x 35 columns]"
      ]
     },
     "execution_count": 2,
     "metadata": {},
     "output_type": "execute_result"
    }
   ],
   "source": [
    "root = pd.read_csv(r'C:\\Users\\laura\\Desktop\\ironhack\\lab-inferential-statistics\\files_for_lab\\principal_component_analysis_example\\breast-cancer.csv')\n",
    "df_original = root\n",
    "df_original.head(5)"
   ]
  },
  {
   "cell_type": "code",
   "execution_count": 3,
   "id": "c05a7a75",
   "metadata": {},
   "outputs": [],
   "source": [
    "# 1- It is assumed that the mean systolic blood pressure is μ = 120 mm Hg. In the Honolulu Heart Study, a sample of n = 100 peoplehad an average systolic blood pressure of 130.1 mm Hg with a standard deviation of 21.21 mm Hg. \n",
    "# Is the group significantly different (with respect to systolic blood pressure!) from the regular population?"
   ]
  },
  {
   "cell_type": "code",
   "execution_count": 4,
   "id": "2a943f58",
   "metadata": {},
   "outputs": [],
   "source": [
    "# 1.1 Set up the hypothesis test.\n",
    "# 1.2 Write down all the steps followed for setting up the test.\n",
    "# 1.3 Calculate the test statistic by hand and also code it in Python. It should be 4.76190.\n",
    "  #We will take a look at how to make decisions based on this calculated value."
   ]
  },
  {
   "cell_type": "code",
   "execution_count": 5,
   "id": "c20be0a6",
   "metadata": {},
   "outputs": [
    {
     "name": "stdout",
     "output_type": "stream",
     "text": [
      "\n",
      "STEP 1- Define the null hypothesis (H0): μ = 120\n",
      "STEP 2- Define the alternate hypotesis: Ha): μ != 120 \n",
      "STEP 3- Define significancy level: a = 0.05\n",
      "STEP 4- Do the T staticstics with 1 or 2 tails (in this case 1 tail)\n",
      "STEP 5- Create the critical region\n",
      "STEP 6- Make a decision\n",
      "\n"
     ]
    }
   ],
   "source": [
    "print(\"\"\"\n",
    "STEP 1- Define the null hypothesis (H0): μ = 120\n",
    "STEP 2- Define the alternate hypotesis: Ha): μ != 120 \n",
    "STEP 3- Define significancy level: a = 0.05\n",
    "STEP 4- Do the T staticstics with 1 or 2 tails (in this case 1 tail)\n",
    "STEP 5- Create the critical region\n",
    "STEP 6- Make a decision\n",
    "\"\"\")"
   ]
  },
  {
   "cell_type": "code",
   "execution_count": 6,
   "id": "2e166773",
   "metadata": {},
   "outputs": [],
   "source": [
    "systolic_blood_pressure_world_mean = 120\n",
    "\n",
    "sample = 100\n",
    "systolic_blood_pressure_mean = 130.1\n",
    "systolic_blood_pressure_std = 21.21\n",
    "\n",
    "a = 0.05"
   ]
  },
  {
   "cell_type": "code",
   "execution_count": 7,
   "id": "4bbd4c89",
   "metadata": {},
   "outputs": [
    {
     "data": {
      "text/plain": [
       "array([135.23459217, 107.2668982 , 127.47563163, 136.4508408 ,\n",
       "       121.38909549, 147.57624717, 134.7936885 , 128.69189873,\n",
       "       132.14758763, 142.65566511, 189.61057188, 109.80307247,\n",
       "       147.42486999, 106.64046538, 143.42159233,  81.70563912,\n",
       "       138.3624736 , 109.00286604, 150.09343808, 169.36337821,\n",
       "       102.06152686, 140.63208361, 124.72504099, 131.68402531,\n",
       "       135.78444162, 111.79272852, 105.13691452, 134.04167204,\n",
       "       162.76332917, 119.97895605, 144.4833338 , 158.91584564,\n",
       "       118.98306097, 124.87574305, 151.35925737, 102.32611703,\n",
       "       117.53987084, 128.42501314, 117.6486241 , 185.12899252,\n",
       "       121.27386498, 101.87838422, 133.91566378, 143.91737027,\n",
       "       147.58308095, 127.344557  , 151.16668806, 125.53952971,\n",
       "        77.68440421, 142.32354354, 144.01911903, 134.38665161,\n",
       "       114.84199013, 135.09366036, 137.50080444, 146.63307906,\n",
       "       135.89433535, 109.68284414, 143.02193624, 114.99960324,\n",
       "       106.76418733, 103.09330272, 128.65567389, 132.48444115,\n",
       "       116.4566062 , 139.85944478, 150.15989209, 111.74117405,\n",
       "       110.12451529, 125.67308488, 157.68849459, 132.5682843 ,\n",
       "       111.89277774, 137.37846314, 149.42968041,  85.7939683 ,\n",
       "       105.45776661, 130.42438701,  90.2950687 , 172.54336143,\n",
       "       144.43367896, 102.61137565, 115.51818725, 120.26407207,\n",
       "       138.72596609, 101.71995096, 152.33150562, 148.13944192,\n",
       "       122.24197684, 170.99967433, 103.88685169, 130.21544876,\n",
       "       127.09991075, 102.00576378, 179.49952535, 131.10769926,\n",
       "       131.4237282 , 174.96307254, 132.65628302, 140.25441825])"
      ]
     },
     "execution_count": 7,
     "metadata": {},
     "output_type": "execute_result"
    }
   ],
   "source": [
    "generated_sample = norm.rvs(loc=systolic_blood_pressure_mean, scale=systolic_blood_pressure_std, size=sample)\n",
    "generated_sample"
   ]
  },
  {
   "cell_type": "code",
   "execution_count": 8,
   "id": "6ecc018a",
   "metadata": {},
   "outputs": [],
   "source": [
    "t_statistic, p_value = ttest_1samp(generated_sample, systolic_blood_pressure_world_mean)"
   ]
  },
  {
   "cell_type": "code",
   "execution_count": 9,
   "id": "fc003cf1",
   "metadata": {},
   "outputs": [
    {
     "name": "stdout",
     "output_type": "stream",
     "text": [
      "t-statistic: 4.7411796792908545\n",
      "p-value: 7.133674760143715e-06\n"
     ]
    }
   ],
   "source": [
    "print(\"t-statistic:\", t_statistic)\n",
    "print(\"p-value:\", p_value)"
   ]
  }
 ],
 "metadata": {
  "kernelspec": {
   "display_name": "Python 3 (ipykernel)",
   "language": "python",
   "name": "python3"
  },
  "language_info": {
   "codemirror_mode": {
    "name": "ipython",
    "version": 3
   },
   "file_extension": ".py",
   "mimetype": "text/x-python",
   "name": "python",
   "nbconvert_exporter": "python",
   "pygments_lexer": "ipython3",
   "version": "3.11.4"
  }
 },
 "nbformat": 4,
 "nbformat_minor": 5
}
